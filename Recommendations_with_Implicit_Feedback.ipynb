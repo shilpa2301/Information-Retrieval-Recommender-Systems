{
  "cells": [
    {
      "cell_type": "markdown",
      "metadata": {
        "id": "sgS43jLbL77U"
      },
      "source": [
        "# Part 1. Recommendations with Implicit Feedback (20 points)\n",
        "\n",
        "For this part, we're going to build a simple **non-personalized** implicit recommendation algorithm. Since feedback like user clicks, purchases, and views is much more widespread than explicit ratings, implicit recommenders offer great opportunities for far-reaching impact. \n",
        "\n",
        "Concretely, the task of implicit recommendation is to recommend items to users based on implicit signals from users, i.e., we only know what items a user is interested in, but have no idea what items the user dislikes. So for this case, the dataset we could use for this implicit recommendation experiment only contains binary data with 1 representing that the user likes the item, and with 0 representing that we don't know the user's preference towards the item. Because of this, we cannot use the same evaluation method as explicit recommendation. Instead, we need to evaluate the implicit recommendation quality by a ranking task.\n",
        "\n",
        "For this part, we will:\n",
        "* load and process the MovieLens 1M dataset,\n",
        "* transfer the explicit dataset to implicit one,\n",
        "* build a non-personalized implicit recommender, \n",
        "* and evaluate your recommender."
      ]
    },
    {
      "cell_type": "markdown",
      "metadata": {
        "id": "_e5ak01BL77T"
      },
      "source": [
        "To start out, we need to prepare the data. We will use the MovieLens 1M data from https://grouplens.org/datasets/movielens/1m/ in this homework. Lucky for you, we are providing the file containing the ratings -- ratings.dat  -- so all you need to do is load the ratings.dat file in the notebook as a DataFrame variable using the Pandas library. The code to do this has been provided in the next cell, but you need to run it. The resulting data variables are: train_mat is the numpy array variable for training data of size (#users, #items) with non-zero entries representing user-item ratings, and zero entries representing unknown user-item ratings; and test_mat is the numpy array variable for testing data of size (#users, #items)."
      ]
    },
    {
      "cell_type": "code",
      "execution_count": null,
      "metadata": {
        "id": "ZaocWZ94MD-e"
      },
      "outputs": [],
      "source": [
        "import pandas as pd\n",
        "import numpy as np\n",
        "from scipy.sparse import coo_matrix\n",
        "\n",
        "data_df = pd.read_csv('./ratings.dat', sep='::', names=[\"UserID\", \"MovieID\", \"Rating\", \"Timestamp\"], engine='python')\n",
        "\n",
        "# First, generate dictionaries for mapping old id to new id for users and movies\n",
        "unique_MovieID = data_df['MovieID'].unique()\n",
        "unique_UserID = data_df['UserID'].unique()\n",
        "j = 0\n",
        "user_old2new_id_dict = dict()\n",
        "for u in unique_UserID:\n",
        "    user_old2new_id_dict[u] = j\n",
        "    j += 1\n",
        "j = 0\n",
        "movie_old2new_id_dict = dict()\n",
        "for i in unique_MovieID:\n",
        "    movie_old2new_id_dict[i] = j\n",
        "    j += 1\n",
        "\n",
        "\n",
        "# Then, use the generated dictionaries to reindex UserID and MovieID in the data_df\n",
        "user_list = data_df['UserID'].values\n",
        "movie_list = data_df['MovieID'].values\n",
        "for j in range(len(data_df)):\n",
        "    user_list[j] = user_old2new_id_dict[user_list[j]]\n",
        "    movie_list[j] = movie_old2new_id_dict[movie_list[j]]\n",
        "data_df['UserID'] = user_list\n",
        "data_df['movieID'] = movie_list\n",
        "\n",
        "\n",
        "# generate train_df with 70% samples and test_df with 30% samples, and there should have no overlap between them.\n",
        "np.random.seed(0)\n",
        "train_index = np.random.random(len(data_df)) <= 0.7\n",
        "#train_index = np.random.seed(0) <= 0.7\n",
        "train_df = data_df[train_index]\n",
        "test_df = data_df[~train_index]\n",
        "\n",
        "# generate train_mat and test_mat\n",
        "num_user = len(data_df['UserID'].unique())\n",
        "num_movie = len(data_df['MovieID'].unique())\n",
        "\n",
        "train_mat = coo_matrix((train_df['Rating'].values, (train_df['UserID'].values, train_df['MovieID'].values)), shape=(num_user, num_movie)).astype(float).toarray()\n",
        "test_mat = coo_matrix((test_df['Rating'].values, (test_df['UserID'].values, test_df['MovieID'].values)), shape=(num_user, num_movie)).astype(float).toarray()\n",
        "\n"
      ]
    },
    {
      "cell_type": "markdown",
      "metadata": {
        "id": "C-sEqkSHL77V"
      },
      "source": [
        "It is very easy to transfer the explicit datasets you already generated to implicit ones: here, you will consider the watching behavior as the implicit signal showing that the user is interested in a movie. Thus, you can use the same train_df and test_df for implicit recommendation experiment with 'Rating' column ignored. And for train_mat and test_mat, you need to make all ratings to be value 1 and keep 0 entries the same."
      ]
    },
    {
      "cell_type": "code",
      "execution_count": null,
      "metadata": {
        "id": "Av77NlOLL77V"
      },
      "outputs": [],
      "source": [
        "# turn the explicit ratings to implicit feedback data\n",
        "train_mat = (train_mat > 0).astype(float)\n",
        "test_mat = (test_mat > 0).astype(float)"
      ]
    },
    {
      "cell_type": "markdown",
      "metadata": {
        "id": "mvun1WmYL77V"
      },
      "source": [
        "## Part 1a: Build the non-personalized recommender (10 points)\n",
        "\n",
        "In this part, you need to build a non-personalized recommendation model to provide a ranked list of 50 movies as the recommendation for each user. The model is very simple: for each user, the recommendation list is to rank the unwatched movies by their **popularity**, where the popularity is the number of implicit feedback each movie gets. In this case, although it is non-personalized recommender, the recommendation results may be different for users because the unwatched movies are different across users.\n",
        "\n",
        "In the next cell, write your code to generate the ranked lists of movies by the popularity based recommendation algorithm for every user, store the result in a numpy array of size (#user, 50), entry (u, k) represents the movie id that is ranked at position k in the recommendation list to user u. Print out the top-5 recommended movies and their popularity for the first user (with id 0).\n",
        "\n",
        "Hint: the popularity can only be calculated from train_mat, you cannot use test_mat here. "
      ]
    },
    {
      "cell_type": "code",
      "execution_count": null,
      "metadata": {
        "colab": {
          "base_uri": "https://localhost:8080/"
        },
        "id": "l9rcPRfhL77V",
        "outputId": "61d5ba73-4531-4a4c-95b6-8b9ab57d037e"
      },
      "outputs": [
        {
          "output_type": "stream",
          "name": "stdout",
          "text": [
            "\n"
          ]
        }
      ],
      "source": [
        "# Generate a ranked list of movies by the popularity based recommendation algorithm. And print out the id and popularity of the top5 movies for the first user.\n",
        "# Your Code Here...\n",
        "global poopularity_score_for_user_0#=np.zeros(num_movie)\n",
        "def return_top_k(mat, k):\n",
        "  non_personalized_recommender_output=np.empty((0,k))\n",
        "\n",
        "\n",
        "  aggregate_sum_movies=np.zeros(num_movie)\n",
        "  for j in range(num_movie):\n",
        "    movie_vals=[]\n",
        "    movie_vals=train_mat[:,j]\n",
        "    aggregate_sum_movies[j]=np.sum(movie_vals)\n",
        "  #print(aggregate_sum_movies)\n",
        "\n",
        "  for user in range(num_user):\n",
        "     zero_indices=[]\n",
        "     zero_indices = [index for index, value in enumerate(mat[user]) if value == 0]\n",
        "     popularity_matrix_for_user=[aggregate_sum_movies[i] for i in zero_indices]\n",
        "     zipped_moviepopularity_indices=list(zip(popularity_matrix_for_user, zero_indices))\n",
        "     sorted_zipped_moviepopularity_indices = sorted(zipped_moviepopularity_indices, key=lambda x: x[0], reverse=True)\n",
        "     #print(zero_indices)\n",
        "     movie_indices_ranked=[]\n",
        "     if user==0:\n",
        "       poopularity_score_for_user_0 = [t[0] for t in sorted_zipped_moviepopularity_indices]\n",
        "     movie_indices_ranked = [t[1] for t in sorted_zipped_moviepopularity_indices]\n",
        "     #non_personalized_recommender_output.append(movie_indices_ranked[:50])\n",
        "     while len(movie_indices_ranked) < k:\n",
        "        movie_indices_ranked.append(0)\n",
        "     non_personalized_recommender_output=np.append(non_personalized_recommender_output, np.array([movie_indices_ranked[:k]]), axis=0)\n",
        "     #print(poopularity_score_for_user_0[:5])\n",
        "  return non_personalized_recommender_output, poopularity_score_for_user_0\n",
        "\n",
        "\n",
        "print()\n"
      ]
    },
    {
      "cell_type": "code",
      "execution_count": null,
      "metadata": {
        "id": "wvPpsn5aWOgO"
      },
      "outputs": [],
      "source": [
        "train_non_personalized_recommender_output, poopularity_score_for_user_0=return_top_k(train_mat, 50)"
      ]
    },
    {
      "cell_type": "code",
      "execution_count": null,
      "metadata": {
        "colab": {
          "base_uri": "https://localhost:8080/"
        },
        "id": "1rVsmLaAHZMo",
        "outputId": "13deba89-f5ac-467f-8f16-d0801f91e588"
      },
      "outputs": [
        {
          "output_type": "stream",
          "name": "stdout",
          "text": [
            "Rank | Movie_Id | Popularity Score------for user 0\n",
            "--------------------------------------------------------------------------------\n",
            "1 104 2423\n",
            "2 124 2086\n",
            "3 64 2064\n",
            "4 113 1862\n",
            "5 97 1845\n"
          ]
        }
      ],
      "source": [
        "print(\"Rank | Movie_Id | Popularity Score------for user 0\")\n",
        "print(\"--------------------------------------------------------------------------------\")\n",
        "for i in range(5):\n",
        "    print(\"{} {:.0f} {}\".format(i+1, train_non_personalized_recommender_output[0][i], int(poopularity_score_for_user_0[i])))"
      ]
    },
    {
      "cell_type": "markdown",
      "metadata": {
        "id": "WwzW8K6gL77V"
      },
      "source": [
        "## Part 1b: Evaluate the non-personalized recommender (10 points)\n",
        "\n",
        "In this part, you need to evaluate your non-personalized recommendation by the held-out testing dataset test_mat for each user. For the implicit recommendation, two typical metrics are recall@k and precision@k. Here, you need to write the code to calculate recall@k and  precision@k for k=5, 20, 50 for each user, i.e., six metrics for every user. And please print out the average over all users for these six metrics.\n",
        "\n",
        "Hint: if a user does not have any testing samples in test_mat, do not include this user in the final averaged metric.\n"
      ]
    },
    {
      "cell_type": "code",
      "execution_count": null,
      "metadata": {
        "id": "f3I34QYzL77V"
      },
      "outputs": [],
      "source": [
        "# Calculate recall@k and precision@k with k=5, 20, 50 and print out the average over all users for these 9 metrics.\n",
        "# Your Code Here...\n",
        "k_vals=[5, 20, 50]\n",
        "user_based_metrics=np.zeros((num_user, 6)) #format - user i: [P@5, P@20, P@50, R@5, R@20, R@50]\n",
        "metric_id=0\n",
        "for k in k_vals:\n",
        "\n",
        "  #train_non_personalized_recommender_output=return_top_k(train_mat, k)\n",
        "  train_non_personalized_recommender_output_k=train_non_personalized_recommender_output[:,:k]\n",
        "  \n",
        "  \n",
        "\n",
        "  for user in range(num_user):\n",
        "      TP=0\n",
        "      TP_FN=0\n",
        "      TP_FP=0\n",
        "      TP_FN=np.sum(test_mat[user] , axis=0)\n",
        "      \n",
        "      for item_id in train_non_personalized_recommender_output_k[user]:\n",
        "        #print(item_id)\n",
        "        if test_mat[user][int(item_id)] ==1:\n",
        "            TP+=1\n",
        "            TP_FP+=1\n",
        "        else:\n",
        "            TP_FP+=1\n",
        "      \n",
        "      user_based_metrics[user][metric_id]=(TP/TP_FP)\n",
        "      if TP_FN==0:\n",
        "        user_based_metrics[user][metric_id+3]=0\n",
        "      else:\n",
        "        #print(\"tp={}, tp_fn={}\".format(TP, TP_FN))\n",
        "        user_based_metrics[user][metric_id+3]=(TP/TP_FN)\n",
        "  metric_id+=1\n"
      ]
    },
    {
      "cell_type": "code",
      "execution_count": null,
      "metadata": {
        "id": "T7KyX5kZOvuW"
      },
      "outputs": [],
      "source": [
        "metric_aggregate=np.zeros(6)\n",
        "for j in range(6):\n",
        "    metric_vals= user_based_metrics[:,j]\n",
        "    metric_aggregate[j]=np.average(metric_vals)\n"
      ]
    },
    {
      "cell_type": "code",
      "execution_count": null,
      "metadata": {
        "colab": {
          "base_uri": "https://localhost:8080/"
        },
        "id": "tBLY6az9QT1A",
        "outputId": "49358661-dad8-431a-e367-c3b4a9b9641e"
      },
      "outputs": [
        {
          "output_type": "stream",
          "name": "stdout",
          "text": [
            "recall@5\t[0.037859],\t||\t recall@20\t[0.108586],\t||\t recall@50\t[0.193618]\n",
            "precision@5\t[0.272980],\t||\t precision@20\t[0.210422],\t||\t precision@50\t[0.157821]\n"
          ]
        }
      ],
      "source": [
        "print('recall@5\\t[%.6f],\\t||\\t recall@20\\t[%.6f],\\t||\\t recall@50\\t[%.6f]' % (metric_aggregate[3], metric_aggregate[4], metric_aggregate[5]))\n",
        "print('precision@5\\t[%.6f],\\t||\\t precision@20\\t[%.6f],\\t||\\t precision@50\\t[%.6f]' % (metric_aggregate[0], metric_aggregate[1], metric_aggregate[2]))"
      ]
    },
    {
      "cell_type": "markdown",
      "metadata": {
        "id": "qxAu2Gi_fU7m"
      },
      "source": [
        "# Part 2. Build the Collaborative Filtering Model for Implicit Feedback (25 points)\n",
        "\n",
        "In this part, we will need to build **personalized** models instead of non-personalized models as in Part 1. We study how collaborative filtering algorithms work for recommendations with implicit feedback. The overall pipeline is the same as in Part 1. But now you need to implement a user-user collaborative filtering algorithm for recommendation. You will also evaluate your personalized models to compare them with the non-personalized one in Part 1.\n",
        "\n",
        "In this part, you will use the same MovieLens 1M dataset, and:\n",
        "\n",
        "* write the code to implement a user-user collaborative filtering algorithm,\n",
        "* and evaluate your recommender."
      ]
    },
    {
      "cell_type": "markdown",
      "metadata": {
        "id": "Rs9uZydYfU7k"
      },
      "source": [
        "First, we need to load and preprocess the experiment dataset. We still use the MovieLens 1M data from https://grouplens.org/datasets/movielens/1m/ in this part."
      ]
    },
    {
      "cell_type": "markdown",
      "metadata": {
        "id": "f4Y-6bhZfU7m"
      },
      "source": [
        "Then, you need to write code to implement a user-user collaborative filtering algorithm with **cosine similarity**. Although we have not discussed in class how to use collaborative filtering for implicit feedback, it is quite straightforward. \n",
        "\n",
        "* We first need to calculate the cosine similarity between users based on the binary feedback vectors of users; \n",
        "* Then, for a specific user $u$, we predict a preference vector for the user $u$ by weighted averaging the binary feedback vectors of N users who are most similar to $u$;\n",
        "* And last, rank the movies based on the predicted preference vector of the user $u$ as recommendations. \n",
        "\n",
        "The predicted preference score from user $u$ to movie $i$ can be calculated as: $p_{u,i}=\\frac{\\sum_{u^\\prime\\in N}s(u,u^\\prime)r_{u^\\prime,i}}{\\sum_{u^\\prime\\in N}|s(u,u^\\prime)|}$, where $s(u,u^\\prime)$ is the cosine similarity, and we set the size of $N$ as 10.\n",
        "\n",
        "In the next cell, write your code to generate the ranked lists of movies by this user-user collaborative filtering recommendation algorithm for every user, store the result in a numpy array of size (#user, 50), where entry (u, k) represents the movie id that is ranked at position k in the recommendation list to user u. \n",
        "\n",
        "* Hint: for a user $u$, the movies user $u$ liked in the train_mat should be excluded in the top 50 recommendation list"
      ]
    },
    {
      "cell_type": "code",
      "source": [
        "from numpy.linalg import norm\n",
        "\n",
        "from scipy.spatial.distance import cdist\n",
        "\n",
        "#create similarity matrix\n",
        "\n",
        "similarity_matrix = 1 - cdist(train_mat, train_mat, 'cosine')\n",
        "\n",
        "for i in range(num_user):\n",
        "  similarity_matrix[i][i]=0\n",
        "\n",
        "\n",
        "user_with_top10=np.zeros((train_mat.shape[0],10),dtype=int)\n",
        "for user_ind, user in enumerate(similarity_matrix):\n",
        "  user_with_top10[user_ind]=(user).argsort()[-10:]\n"
      ],
      "metadata": {
        "id": "AfNOlwDZKtim"
      },
      "execution_count": 48,
      "outputs": []
    },
    {
      "cell_type": "code",
      "source": [
        "all_user_preference_matrix = np.zeros((train_mat.shape[0], train_mat.shape[1]))\n",
        "\n",
        "for user_index, indiv_user_rating_vector in enumerate(similarity_matrix):\n",
        "    neighbor_indices = user_with_top10[user_index]\n",
        "    sim_scores = similarity_matrix[user_index, neighbor_indices]\n",
        "    neighbor_ratings = train_mat[neighbor_indices, :]\n",
        "    user_i_movie_rating = sim_scores.dot(neighbor_ratings)\n",
        "  \n",
        "    norm_factor = np.linalg.norm(similarity_matrix[user_index])\n",
        "    if norm_factor != 0:\n",
        "        user_i_movie_rating /= norm_factor\n",
        "    \n",
        "    all_user_preference_matrix[user_index] = user_i_movie_rating\n"
      ],
      "metadata": {
        "id": "_GdzP56HsXz8"
      },
      "execution_count": 49,
      "outputs": []
    },
    {
      "cell_type": "code",
      "source": [
        "#rank top 50 movie for each user\n",
        "uu_cf_recommender_output=np.zeros((train_mat.shape[0],50), dtype=int)\n",
        "for user_index in range(train_mat.shape[0]):\n",
        "  user_i_watched_movies=np.nonzero(train_mat[user_index])[0]\n",
        "  user_i_recommendation_list=[]\n",
        "  preferred_movie_count=0\n",
        "  for movie in np.argsort(-all_user_preference_matrix[user_index]):\n",
        "    if(preferred_movie_count<50) and (movie not in user_i_watched_movies):\n",
        "      user_i_recommendation_list.append(movie)\n",
        "      preferred_movie_count+=1\n",
        "  uu_cf_recommender_output[user_index]=user_i_recommendation_list"
      ],
      "metadata": {
        "id": "rYqzHvW1HoKA"
      },
      "execution_count": 50,
      "outputs": []
    },
    {
      "cell_type": "markdown",
      "metadata": {
        "id": "v73XLfN5fU7m"
      },
      "source": [
        "Last, you need to evaluate your user-user collaborative filtering algorithm by the held-out testing dataset test_mat for each user. Here, we use the same metrics recall@k and precision@k we used in Part 2c of Module 1. So you can use the same code here to calculate recall@k and precision@k for k=5, 20, 50 for each user, i.e., six metrics for every user. And please print out the average over all users for these six metrics."
      ]
    },
    {
      "cell_type": "code",
      "execution_count": 51,
      "metadata": {
        "id": "-UI-iWnLfU7m"
      },
      "outputs": [],
      "source": [
        "# Calculate recall@k, precision@k with k=5, 20, 50 and print out the average over all users for these 6 metrics.\n",
        "# Your Code Here...\n",
        "\n",
        "k_vals=[5, 20, 50]\n",
        "uu_cf_based_metrics=np.zeros((num_user, 6)) #format - user i: [P@5, P@20, P@50, R@5, R@20, R@50]\n",
        "metric_id=0\n",
        "for k in k_vals:\n",
        "\n",
        "  k_col_preference_mat_uu_cf = uu_cf_recommender_output[:, :k]\n",
        "  \n",
        "  \n",
        "\n",
        "  for user in range(num_user):\n",
        "      TP=0\n",
        "      TP_FN=0\n",
        "      TP_FP=0\n",
        "      TP_FN=np.sum(test_mat[user] , axis=0)\n",
        "      \n",
        "      for item_id in k_col_preference_mat_uu_cf[user]:\n",
        "        if test_mat[user][int(item_id)] ==1:\n",
        "            TP+=1\n",
        "            TP_FP+=1\n",
        "        else:\n",
        "            TP_FP+=1\n",
        "      \n",
        "      uu_cf_based_metrics[user][metric_id]=(TP/TP_FP)\n",
        "      if TP_FN==0:\n",
        "        uu_cf_based_metrics[user][metric_id+3]=0\n",
        "      else:\n",
        "        #print(\"tp={}, tp_fn={}\".format(TP, TP_FN))\n",
        "        uu_cf_based_metrics[user][metric_id+3]=(TP/TP_FN)\n",
        "  metric_id+=1\n",
        "  # break\n",
        "\n"
      ]
    },
    {
      "cell_type": "code",
      "source": [
        "uu_cf_metric_aggregate=np.zeros(6)\n",
        "for j in range(6):\n",
        "    uu_cf_metric_vals= uu_cf_based_metrics[:,j]\n",
        "    uu_cf_metric_aggregate[j]=np.average(uu_cf_metric_vals)"
      ],
      "metadata": {
        "id": "CRJZpPFl7BzV"
      },
      "execution_count": 52,
      "outputs": []
    },
    {
      "cell_type": "code",
      "source": [
        "print('recall@5\\t[%.6f],\\t||\\t recall@20\\t[%.6f],\\t||\\t recall@50\\t[%.6f]' % (uu_cf_metric_aggregate[3], uu_cf_metric_aggregate[4], uu_cf_metric_aggregate[5]))\n",
        "print('precision@5\\t[%.6f],\\t||\\t precision@20\\t[%.6f],\\t||\\t precision@50\\t[%.6f]' % (uu_cf_metric_aggregate[0], uu_cf_metric_aggregate[1], uu_cf_metric_aggregate[2]))"
      ],
      "metadata": {
        "colab": {
          "base_uri": "https://localhost:8080/"
        },
        "id": "UDqzO1il7MOr",
        "outputId": "e38a1321-246e-40cc-d7ad-8bc261fba2d3"
      },
      "execution_count": null,
      "outputs": [
        {
          "output_type": "stream",
          "name": "stdout",
          "text": [
            "recall@5\t[0.070522],\t||\t recall@20\t[0.191681],\t||\t recall@50\t[0.322024]\n",
            "precision@5\t[0.377914],\t||\t precision@20\t[0.290919],\t||\t precision@50\t[0.221669]\n"
          ]
        }
      ]
    },
    {
      "cell_type": "markdown",
      "metadata": {
        "id": "Bh07jVftmBAY"
      },
      "source": [
        "**Question (5 points):** do you observe a better result compared with models implemented in the previous part? What's reason do you think that brings this improvement?"
      ]
    },
    {
      "cell_type": "markdown",
      "metadata": {
        "id": "6en1Xna8mBAZ"
      },
      "source": [
        "Write your answer here:"
      ]
    },
    {
      "cell_type": "markdown",
      "source": [
        "**Let me first note down the comparison first:**"
      ],
      "metadata": {
        "id": "bo8ejolP_OjE"
      }
    },
    {
      "cell_type": "code",
      "source": [
        "print(\"Metric|Non-Personalized Implicit|User User Collaborative Filtering \")\n",
        "print(\"-----------------------------------------------------------------------------------------------------------------------------\")\n",
        "print(\"Precision@5 | {} | {}\".format(metric_aggregate[0], uu_cf_metric_aggregate[0] ))\n",
        "print(\"Precision@20| {} | {}\".format(metric_aggregate[1], uu_cf_metric_aggregate[1] ))\n",
        "print(\"Precision@50| {} | {}\".format(metric_aggregate[2], uu_cf_metric_aggregate[2] ))\n",
        "print(\"Recall@5    | {} | {}\".format(metric_aggregate[3], uu_cf_metric_aggregate[3] ))\n",
        "print(\"Recall@20   | {} | {}\".format(metric_aggregate[4], uu_cf_metric_aggregate[4] ))\n",
        "print(\"Recall@50   | {} | {}\".format(metric_aggregate[5], uu_cf_metric_aggregate[5] ))\n"
      ],
      "metadata": {
        "colab": {
          "base_uri": "https://localhost:8080/"
        },
        "id": "dOxZQllF75d3",
        "outputId": "4d4e6afc-23b3-4166-8b88-d424e561eb69"
      },
      "execution_count": null,
      "outputs": [
        {
          "output_type": "stream",
          "name": "stdout",
          "text": [
            "Metric|Non-Personalized Implicit|User User Collaborative Filtering \n",
            "-----------------------------------------------------------------------------------------------------------------------------\n",
            "Precision@5 | 0.27298013245033115 | 0.37791390728476826\n",
            "Precision@20| 0.21042218543046354 | 0.2909188741721854\n",
            "Precision@50| 0.15782119205298015 | 0.22166887417218545\n",
            "Recall@5    | 0.037858976807254974 | 0.07052231202978665\n",
            "Recall@20   | 0.10858587535569653 | 0.19168130617862092\n",
            "Recall@50   | 0.1936175491167039 | 0.3220242598557336\n"
          ]
        }
      ]
    },
    {
      "cell_type": "markdown",
      "source": [
        "**Analysis:**\n",
        "\n",
        "From the above results, we can see User-User collaborative filtering performs better than Non-personalized based Implicit Recommendation.\n",
        "\n",
        "User-User collaborative filtering is a technique that utilizes the behavior of similar users to make recommendations. In the context of implicit recommendation, this means that it uses the behavior of users, such as the items they interacted with or the time spent on certain items, to find other users who exhibit similar behavior patterns, and then recommends items that those similar users interacted with but the active user has not yet interacted with.\n",
        "\n",
        "On the other hand, non-personalized recommenders, such as popularity-based recommenders, simply recommend the most popular items to all users, without considering the specific interests or preferences of individual users.\n",
        "\n",
        "User-User collaborative filtering is often considered to be more effective than non-personalized recommenders in implicit recommendation because it takes into account the individual preferences and behavior patterns of each user, and can therefore provide recommendations that are more relevant and personalized to each user. This can lead to increased engagement and satisfaction from users, which can ultimately result in higher conversion rates and revenue for the business.\n",
        "\n",
        "Moreover, user-user collaborative filtering can capture more nuanced similarities between users than non-personalized recommenders, which only consider aggregate behavior patterns. By leveraging the behavior of similar users, user-user collaborative filtering can identify items that are more likely to be of interest to the active user, even if those items are not generally popular.\n",
        "\n",
        "Overall, user-user collaborative filtering is considered to be a powerful technique for implicit recommendation because it can provide personalized and relevant recommendations based on the individual preferences and behavior patterns of each user.\n",
        "\n",
        "\n",
        "\n",
        "\n",
        "\n"
      ],
      "metadata": {
        "id": "pyySCtNx_qoR"
      }
    },
    {
      "cell_type": "markdown",
      "metadata": {
        "id": "9Tl2tFlibnAY"
      },
      "source": [
        "# Part 3. Build the Matrix Factorization Model for Implicit Feedback (25 points)\n",
        "\n",
        "Now we turn to study how matrix factorization algorithms works for recommendations with implicit feedback. The overall pipeline is the same as in Part 1 and Part 2. But now you need to implement a matrix factorization algorithm for recommendation. You will also compare your matrix factorization model to the non-personalized one in Part 1 and collaborative filtering one in Part 2.\n",
        "\n",
        "In this part, you will use the same MovieLens 1M dataset, and:\n",
        "* write the code to implement a matrix factorization algorithm,\n",
        "* and evaluate your recommender."
      ]
    },
    {
      "cell_type": "markdown",
      "metadata": {
        "id": "XTLaMD2CbnAS"
      },
      "source": [
        "First, let's recap the matrix factorization model introduced in class. The MF model can be mathematically represented as: \n",
        "\n",
        "<center>$\\underset{\\mathbf{P},\\mathbf{Q}}{\\text{min}}\\,\\,L=\\sum_{(u,i)\\in\\mathcal{O}}(\\mathbf{P}_u\\cdot\\mathbf{Q}^\\top_i-r_{u,i})^2+\\lambda(\\lVert\\mathbf{P}\\rVert^2_{\\text{F}}+\\lVert\\mathbf{Q}\\rVert^2_{\\text{F}})$,</center>\n",
        "    \n",
        "where $\\mathbf{P}$ is the user latent factor matrix of size (#user, #latent); $\\mathbf{Q}$ is the movie latent factor matrix of size (#movie, #latent); $\\mathcal{O}$ is a user-movie pair set containing all user-movie pairs having ratings in train_mat; $r_{u,i}$ represents the rating for user u and movie i; $\\lambda(\\lVert\\mathbf{P}\\rVert^2_{\\text{F}}+\\lVert\\mathbf{Q}\\rVert^2_{\\text{F}})$ is the regularization term to overcome overfitting problem, $\\lambda$ is the regularization weight (a hyper-parameter manually set by developer, i.e., you), and $\\lVert\\mathbf{P}\\rVert^2_{\\text{F}}=\\sum_{x}\\sum_{y}(\\mathbf{P}_{x,y})^2$, $\\lVert\\mathbf{Q}\\rVert^2_{\\text{F}}=\\sum_{x}\\sum_{y}(\\mathbf{Q}_{x,y})^2$. Such an L function is called the **loss function** for the matrix factorization model. The goal of training an MF model is to find appropriate $\\mathbf{P}$ and $\\mathbf{Q}$ to minimize the loss L."
      ]
    },
    {
      "cell_type": "markdown",
      "metadata": {
        "id": "Po4byk_1bnAZ"
      },
      "source": [
        "Although we have not discussed in class how to use matrix factorization algorithm for implicit feedback, it is quite straightforward. The main idea is the same as the MF model for explicit ratings. But instead of predicting explicit ratings, here the MF is to predict binary ratings based on which movies are ranked for users.\n",
        "\n",
        "The only challenge now is that in an implicit feedback dataset, there is only positive signal (i.e., '1' in the train_mat) without negative signal. Hence, to let our MF work for this implicit feedback, a simple but powerful method -- random negative sampling -- is adopted. The main idea is that in each training epoch, we randomly sample user-movie pairs without positive feedback in train_mat (user-movie pairs with '0' in train_mat) to be negative feedback, and mix them with positive feedback as the training data to train the MF model. The **negative sampling method is already provided**."
      ]
    },
    {
      "cell_type": "markdown",
      "metadata": {
        "id": "i-YYpBikbnAZ"
      },
      "source": [
        "In the Next cell, you need to complete the MF_implicit class. There are five functions in this class: \n",
        "\n",
        "* 'init' (**provided**) is to initialize the variables the MF class needs, which takes 5 inputs: train_mat, test_mat, latent, lr, and reg. 'train_mat' and 'test_mat' are the corresponfing training and testing matrices we have. 'latent' represents the latent dimension we set for the MF model. 'lr' represents the learning rate, i.e., the update step in each optimization iteration, default is 0.01. 'reg' represents the regularization weight, i.e., the $\\lambda$ in the MF formulation. \n",
        "\n",
        "* 'negative_sampling' (**provided**) is to do the random negative sampling to generate negative signals for training the MF. It returns a list of users and a list of movies as the training samples, mixing positive and negative user-movie pairs.\n",
        "\n",
        "* 'test' (**provided**) is to evaluate the trained MF on test_mat and print out recall@k and precision@k. \n",
        "\n",
        "* 'predict' (**need to be completed**) is to generate the ranked lists of movies by the trained MF for every user, store the ranking result (named 'recommendation') in a numpy array of size (#user, 50), where entry (u, k) represents the movie id that is ranked at position k in the recommendation list to user u. Return the 'recommendation' variable. \n",
        "\n",
        "* 'train' (**need to be completed**) is to train the MF model. There is only one input to this function: an int variable 'epoch' to indicate how many epochs for training the model. The main logic of this function is the same as the one you already implemented in Part 1a. The main body of this function should be a loop for 'epoch' iterations. In each iteration, following the algorithm to update the MF model:\n",
        "\n",
        "        1. Call 'negative_sampling()' to generate a list of users and a list of movies mixing positive and negative user-movie pairs as training samples.\n",
        "        2. Randomly shuffle training user-movie pairs  (i.e., user-movie pairs from step 1)\n",
        "        2. Have an inner loop to iterate each user-movie pair:\n",
        "                a. given a user-movie pair (u,i), update the user latent factor and movie latent factor by gradient decsent:    \n",
        "<center>$\\mathbf{P}_u=\\mathbf{P}_u-\\gamma [2(\\mathbf{P}_u\\cdot\\mathbf{Q}_i^\\top-r_{u,i})\\cdot\\mathbf{Q}_i+2\\lambda\\mathbf{P}_u]$</center>    \n",
        "<center>$\\mathbf{Q}_i=\\mathbf{Q}_i-\\gamma [2(\\mathbf{P}_u\\cdot\\mathbf{Q}_i^\\top-r_{u,i})\\cdot\\mathbf{P}_u+2\\lambda\\mathbf{Q}_i]$</center>    \n",
        "<center>where $\\mathbf{P}_u$ and $\\mathbf{Q}_i$ are row vectors of size (1, #latent), $\\gamma$ is learning rate (default is 0.01), $\\lambda$ is regularization weight, and $r_{u,i}$ now takes binary value.</center>\n",
        "        \n",
        "        3. After iterating over all user-movie pairs, call 'test()' to evaluate the current MF model.\n",
        "\n",
        "**Note: you are not supposed to delete or modify the provided code.**\n",
        "\n",
        "**Note: for this part, it is necessary to read and understand the provided code, because you will need to call the provided functions in your code.**"
      ]
    },
    {
      "cell_type": "code",
      "execution_count": null,
      "metadata": {
        "id": "NCQi55FTbnAa"
      },
      "outputs": [],
      "source": [
        "class MF_implicit:\n",
        "\n",
        "    def __init__(self, train_mat, test_mat, latent=5, lr=0.01, reg=0.01):\n",
        "        self.train_mat = train_mat  # the training rating matrix of size (#user, #movie)\n",
        "        self.test_mat = test_mat  # the training rating matrix of size (#user, #movie)\n",
        "        \n",
        "        self.latent = latent  # the latent dimension\n",
        "        self.lr = lr  # learning rate\n",
        "        self.reg = reg  # regularization weight, i.e., the lambda in the objective function\n",
        "        \n",
        "        self.num_user, self.num_movie = train_mat.shape\n",
        "        \n",
        "        self.sample_user, self.sample_movie = self.train_mat.nonzero()  # get the user-movie paris having ratings in train_mat\n",
        "        self.num_sample = len(self.sample_user)  # the number of user-movie pairs having ratings in train_mat\n",
        "\n",
        "        self.user_test_like = []\n",
        "        for u in range(self.num_user):\n",
        "            self.user_test_like.append(np.where(self.test_mat[u, :] > 0)[0])\n",
        "\n",
        "        self.P = np.random.random((self.num_user, self.latent))  # latent factors for users, size (#user, self.latent), randomly initialized\n",
        "        self.Q = np.random.random((self.num_movie, self.latent))  # latent factors for users, size (#movie, self.latent), randomly initialized\n",
        "\n",
        "\n",
        "    def negative_sampling(self):\n",
        "        negative_movie = np.random.choice(np.arange(self.num_movie), size=(len(self.sample_user)), replace=True)\n",
        "        true_negative = self.train_mat[self.sample_user, negative_movie] == 0\n",
        "        negative_user = self.sample_user[true_negative]\n",
        "        negative_movie = negative_movie[true_negative]\n",
        "        return np.concatenate([self.sample_user, negative_user]), np.concatenate([self.sample_movie, negative_movie])\n",
        "\n",
        "    def train(self, epoch=20):\n",
        "        \"\"\"\n",
        "        Goal: Write your code to train your matrix factorization model for epoch iterations in this function\n",
        "        Input: epoch -- the number of training epoch \n",
        "        \"\"\"\n",
        "        \n",
        "        for ep in range(epoch):\n",
        "            \"\"\" \n",
        "            Write your code here to implement the training process for one epoch, \n",
        "            at the end of each epoch, run self.test() to evaluate current version of MF.\n",
        "            \"\"\"\n",
        "            print(\"epoch={}\".format(ep))\n",
        "            negative_training_set=self.negative_sampling()\n",
        "            perm = np.random.permutation(len(negative_training_set[0]))\n",
        "\n",
        "            # use fancy indexing to select the elements in the shuffled order\n",
        "            negative_training_set_0 = negative_training_set[0][perm]\n",
        "            negative_training_set_1 = negative_training_set[1][perm]\n",
        "\n",
        "            #print(negative_training_set)\n",
        "            #print((self.P).shape)\n",
        "            #print((self.Q).shape)\n",
        "            #print((QT).shape)\n",
        "            #np.random.shuffle(negative_training_set)\n",
        "            #QT=self.Q.T\n",
        "            \n",
        "            for i in range(len(negative_training_set[0])):\n",
        "                user=negative_training_set_0[i]\n",
        "                item=negative_training_set_1[i]\n",
        "              ## Concurrently updated\n",
        "                self.P[user],self.Q[item]=self.P[user]-self.lr*(2*(self.P[user].dot(self.Q[item])-self.train_mat[user,item])*self.Q[item]\n",
        "                    +2*self.reg*self.P[user]),self.Q[item]-self.lr*(2*((self.P[user].dot(self.Q[item])-self.train_mat[user,item])*self.P[user]\n",
        "                    +2*self.reg*self.Q[item]))\n",
        "              \n",
        "            self.test()\n",
        "            \n",
        "        \"\"\"\n",
        "        End of your code for this function\n",
        "        \"\"\"\n",
        "            \n",
        "    def predict(self):\n",
        "        \"\"\"\n",
        "        Write your code here to implement the prediction function, which generates the ranked lists of movies \n",
        "        by the trained MF for every user, store the result (named 'recommendation') in a numpy array of size (#user, 50), where entry (u, k) \n",
        "        represents the movie id that is ranked at position k in the recommendation list to user u. Return the 'recommendation' variable. \n",
        "        \"\"\"\n",
        "        prediction_mat = np.matmul(self.P, self.Q.T)\n",
        "        recommendation = []\n",
        "        for u in range(self.num_user):\n",
        "            scores = prediction_mat[u]\n",
        "            train_like = np.where(train_mat[u, :] > 0)[0]\n",
        "            scores[train_like] = -9999\n",
        "            top50_iid = np.argpartition(scores, -50)[-50:]\n",
        "            top50_iid = top50_iid[np.argsort(scores[top50_iid])[-1::-1]]\n",
        "            recommendation.append(top50_iid)\n",
        "        recommendation = np.array(recommendation)\n",
        "        return recommendation\n",
        "        \n",
        "        \n",
        "        \"\"\"\n",
        "        End of your code for this function\n",
        "        \"\"\"\n",
        "        \n",
        "    \n",
        "    def test(self):\n",
        "        recommendation = self.predict()\n",
        "\n",
        "        recalls = np.zeros(3)\n",
        "        precisions = np.zeros(3)\n",
        "        user_count = 0.\n",
        "\n",
        "        for u in range(self.num_user):\n",
        "            test_like = self.user_test_like[u]\n",
        "            test_like_num = len(test_like)\n",
        "            if test_like_num == 0:\n",
        "                continue\n",
        "            rec = recommendation[u, :]\n",
        "            hits = np.zeros(3)\n",
        "            for k in range(50):\n",
        "                if rec[k] in test_like:\n",
        "                    if k < 50:\n",
        "                        hits[2] += 1\n",
        "                        if k < 20:\n",
        "                            hits[1] += 1\n",
        "                            if k < 5:\n",
        "                                hits[0] += 1\n",
        "            recalls[0] += (hits[0] / test_like_num)\n",
        "            recalls[1] += (hits[1] / test_like_num)\n",
        "            recalls[2] += (hits[2] / test_like_num)\n",
        "            precisions[0] += (hits[0] / 5.)\n",
        "            precisions[1] += (hits[1] / 20.)\n",
        "            precisions[2] += (hits[2] / 50.)\n",
        "            user_count += 1\n",
        "\n",
        "        recalls /= user_count\n",
        "        precisions /= user_count\n",
        "\n",
        "\n",
        "        print('recall@5\\t[%.6f],\\t||\\t recall@20\\t[%.6f],\\t||\\t recall@50\\t[%.6f]' % (recalls[0], recalls[1], recalls[2]))\n",
        "        print('precision@5\\t[%.6f],\\t||\\t precision@20\\t[%.6f],\\t||\\t precision@50\\t[%.6f]' % (precisions[0], precisions[1], precisions[2]))\n",
        "        print('')"
      ]
    },
    {
      "cell_type": "markdown",
      "metadata": {
        "id": "GK9lahvXbnAa"
      },
      "source": [
        "Now, run the next cell to build and train your implemented MF model for implicit feedback. The expected time used for training one epoch is 20s to 2 min."
      ]
    },
    {
      "cell_type": "code",
      "execution_count": null,
      "metadata": {
        "id": "l1K6sLgEbnAa",
        "colab": {
          "base_uri": "https://localhost:8080/"
        },
        "outputId": "f6939ffb-4df3-4dd9-c36a-e87359a30ac6"
      },
      "outputs": [
        {
          "output_type": "stream",
          "name": "stdout",
          "text": [
            "epoch=0\n",
            "recall@5\t[0.013877],\t||\t recall@20\t[0.058075],\t||\t recall@50\t[0.138526]\n",
            "precision@5\t[0.148411],\t||\t precision@20\t[0.142815],\t||\t precision@50\t[0.128606]\n",
            "\n",
            "epoch=1\n",
            "recall@5\t[0.026223],\t||\t recall@20\t[0.084051],\t||\t recall@50\t[0.169071]\n",
            "precision@5\t[0.217848],\t||\t precision@20\t[0.178593],\t||\t precision@50\t[0.145371]\n",
            "\n",
            "epoch=2\n",
            "recall@5\t[0.031048],\t||\t recall@20\t[0.094151],\t||\t recall@50\t[0.174296]\n",
            "precision@5\t[0.244834],\t||\t precision@20\t[0.190546],\t||\t precision@50\t[0.149450]\n",
            "\n",
            "epoch=3\n",
            "recall@5\t[0.026371],\t||\t recall@20\t[0.092097],\t||\t recall@50\t[0.175521]\n",
            "precision@5\t[0.230795],\t||\t precision@20\t[0.194247],\t||\t precision@50\t[0.153586]\n",
            "\n",
            "epoch=4\n",
            "recall@5\t[0.029354],\t||\t recall@20\t[0.097228],\t||\t recall@50\t[0.184195]\n",
            "precision@5\t[0.246656],\t||\t precision@20\t[0.205132],\t||\t precision@50\t[0.162328]\n",
            "\n",
            "epoch=5\n",
            "recall@5\t[0.028130],\t||\t recall@20\t[0.092922],\t||\t recall@50\t[0.186884]\n",
            "precision@5\t[0.248477],\t||\t precision@20\t[0.208626],\t||\t precision@50\t[0.169977]\n",
            "\n",
            "epoch=6\n",
            "recall@5\t[0.028636],\t||\t recall@20\t[0.093489],\t||\t recall@50\t[0.189559]\n",
            "precision@5\t[0.247815],\t||\t precision@20\t[0.207773],\t||\t precision@50\t[0.172987]\n",
            "\n",
            "epoch=7\n",
            "recall@5\t[0.030635],\t||\t recall@20\t[0.100425],\t||\t recall@50\t[0.195958]\n",
            "precision@5\t[0.263477],\t||\t precision@20\t[0.218849],\t||\t precision@50\t[0.178000]\n",
            "\n",
            "epoch=8\n",
            "recall@5\t[0.031936],\t||\t recall@20\t[0.104160],\t||\t recall@50\t[0.204698]\n",
            "precision@5\t[0.266258],\t||\t precision@20\t[0.224719],\t||\t precision@50\t[0.183043]\n",
            "\n",
            "epoch=9\n",
            "recall@5\t[0.030591],\t||\t recall@20\t[0.104563],\t||\t recall@50\t[0.208611]\n",
            "precision@5\t[0.266589],\t||\t precision@20\t[0.227417],\t||\t precision@50\t[0.185705]\n",
            "\n",
            "epoch=10\n",
            "recall@5\t[0.031730],\t||\t recall@20\t[0.104516],\t||\t recall@50\t[0.209376]\n",
            "precision@5\t[0.264934],\t||\t precision@20\t[0.224603],\t||\t precision@50\t[0.185815]\n",
            "\n",
            "epoch=11\n",
            "recall@5\t[0.034625],\t||\t recall@20\t[0.111057],\t||\t recall@50\t[0.217527]\n",
            "precision@5\t[0.276060],\t||\t precision@20\t[0.231391],\t||\t precision@50\t[0.188613]\n",
            "\n",
            "epoch=12\n",
            "recall@5\t[0.033178],\t||\t recall@20\t[0.111871],\t||\t recall@50\t[0.220153]\n",
            "precision@5\t[0.267517],\t||\t precision@20\t[0.230430],\t||\t precision@50\t[0.189652]\n",
            "\n",
            "epoch=13\n",
            "recall@5\t[0.036580],\t||\t recall@20\t[0.113243],\t||\t recall@50\t[0.222223]\n",
            "precision@5\t[0.282980],\t||\t precision@20\t[0.233278],\t||\t precision@50\t[0.190540]\n",
            "\n",
            "epoch=14\n",
            "recall@5\t[0.037573],\t||\t recall@20\t[0.117203],\t||\t recall@50\t[0.225460]\n",
            "precision@5\t[0.289272],\t||\t precision@20\t[0.237632],\t||\t precision@50\t[0.192103]\n",
            "\n",
            "epoch=15\n",
            "recall@5\t[0.037909],\t||\t recall@20\t[0.118038],\t||\t recall@50\t[0.229231]\n",
            "precision@5\t[0.286954],\t||\t precision@20\t[0.236714],\t||\t precision@50\t[0.193536]\n",
            "\n",
            "epoch=16\n",
            "recall@5\t[0.036693],\t||\t recall@20\t[0.116267],\t||\t recall@50\t[0.228075]\n",
            "precision@5\t[0.278543],\t||\t precision@20\t[0.234131],\t||\t precision@50\t[0.192063]\n",
            "\n",
            "epoch=17\n",
            "recall@5\t[0.038043],\t||\t recall@20\t[0.118797],\t||\t recall@50\t[0.231118]\n",
            "precision@5\t[0.285066],\t||\t precision@20\t[0.237136],\t||\t precision@50\t[0.193252]\n",
            "\n",
            "epoch=18\n",
            "recall@5\t[0.035061],\t||\t recall@20\t[0.117658],\t||\t recall@50\t[0.233125]\n",
            "precision@5\t[0.276126],\t||\t precision@20\t[0.235894],\t||\t precision@50\t[0.193619]\n",
            "\n",
            "epoch=19\n",
            "recall@5\t[0.039103],\t||\t recall@20\t[0.119658],\t||\t recall@50\t[0.232927]\n",
            "precision@5\t[0.289801],\t||\t precision@20\t[0.236846],\t||\t precision@50\t[0.193781]\n",
            "\n"
          ]
        }
      ],
      "source": [
        "mf_implicit = MF_implicit(train_mat, test_mat, latent=5, lr=0.01, reg=0.0001)\n",
        "mf_implicit.train(epoch=20)"
      ]
    },
    {
      "cell_type": "markdown",
      "metadata": {
        "id": "KA_IrnxJl961"
      },
      "source": [
        "**Question (5 points):** do you observe a better result compared with models implemented in previous two parts? What's reason do you think that brings this improvement?"
      ]
    },
    {
      "cell_type": "markdown",
      "source": [
        "# **COMPARISON OF RESULTS**\n",
        "\n",
        "**Non-Personalized Filtering:**\n",
        "recall@5\t[0.037859],\t||\t recall@20\t[0.108586],\t||\t recall@50\t[0.193618]\n",
        "precision@5\t[0.272980],\t||\t precision@20\t[0.210422],\t||\t precision@50\t[0.157821]\n",
        "\n",
        "**User-User Collaborative Filtering:**\n",
        "recall@5\t[0.070522],\t||\t recall@20\t[0.191681],\t||\t recall@50\t[0.322024]\n",
        "precision@5\t[0.377914],\t||\t precision@20\t[0.290919],\t||\t precision@50\t[0.221669]\n",
        "\n",
        "**Matrix Factorization:**\n",
        "recall@5\t[0.039103],\t||\t recall@20\t[0.119658],\t||\t recall@50\t[0.232927]\n",
        "precision@5\t[0.289801],\t||\t precision@20\t[0.236846],\t||\t precision@50\t[0.193781]\n",
        "\n"
      ],
      "metadata": {
        "id": "G1-qXw7_qSWQ"
      }
    },
    {
      "cell_type": "markdown",
      "metadata": {
        "id": "wxwdsGYel961"
      },
      "source": [
        "**Write your answer here:**"
      ]
    },
    {
      "cell_type": "markdown",
      "source": [
        "From the above results, we can see Matrix Factorization performs better than Non-personalized based and User-User Collaborative Filtering Implicit Recommendation.\n",
        "\n",
        "Matrix factorization for implicit recommendation performs better than non-personalized and user-user collaborative feedback for implicit recommendation for several reasons:\n",
        "\n",
        "Matrix factorization allows for personalized recommendations based on implicit feedback data. Non-personalized recommendations are based solely on the popularity or similarity of items, and do not take into account the individual preferences of users. User-user collaborative filtering also relies on similarity between users, which can be unreliable in sparse datasets.\n",
        "\n",
        "Matrix factorization can handle large and sparse datasets more effectively than user-user collaborative filtering. In user-user collaborative filtering, the similarity between users needs to be calculated for every user pair, which can be computationally expensive and memory-intensive in large datasets. Matrix factorization can efficiently reduce the dimensionality of the data, making it easier to process and faster to compute.\n",
        "\n",
        "Matrix factorization can handle missing data more effectively than non-personalized and user-user collaborative filtering. In non-personalized recommendations, missing data is often handled by either filling in the missing values with averages or ignoring them altogether. User-user collaborative filtering can also struggle with missing data because it relies on user-item ratings for similarity calculation. Matrix factorization, on the other hand, can handle missing data by estimating the missing values using the latent factors of the users and items.\n",
        "\n",
        "Overall, matrix factorization provides a more robust and personalized approach to implicit recommendation than non-personalized and user-user collaborative filtering, making it more effective in sparse and large datasets with missing data."
      ],
      "metadata": {
        "id": "DpNA44Ocprcj"
      }
    },
    {
      "cell_type": "markdown",
      "metadata": {
        "id": "4PW9KO1gMD-e"
      },
      "source": [
        "# Part 4: Build the Bayesian Personalized Ranking (BPR) Model with Implicit Feedback (20 points)\n",
        "\n",
        "In this first part, you will need to build a **Bayesian Personalized Ranking (BPR)** model. You will also evaluate your BPR model to compare with the non-personalized one in Part 1, neighborhood-based collaborative filtering model in Part 2, and matrix factorization model in Part 3. \n",
        "\n",
        "For this part, we will:\n",
        "\n",
        "* build a BPR model,\n",
        "* and evaluate your recommender."
      ]
    },
    {
      "cell_type": "markdown",
      "metadata": {
        "id": "t-hWSeW5MD-e"
      },
      "source": [
        "We still use the MovieLens 1M data from https://grouplens.org/datasets/movielens/1m/ in this part, and use the same loading and preprocessing process."
      ]
    },
    {
      "cell_type": "markdown",
      "metadata": {
        "id": "MO69amdAMD-k"
      },
      "source": [
        "First, let's implement the Bayesian Personalized Ranking model introduced in class. The BPR model can be mathematically represented as: \n",
        "\n",
        "<center>$\\underset{\\mathbf{P},\\mathbf{Q}}{\\text{max}}\\,\\,L=\\sum_{(u,i,j)\\in\\mathcal{O}}\\sigma(\\mathbf{P}_u\\cdot\\mathbf{Q}^\\top_i-\\mathbf{P}_u\\cdot\\mathbf{Q}^\\top_j)+\\lambda(\\lVert\\mathbf{P}\\rVert^2_{\\text{F}}+\\lVert\\mathbf{Q}\\rVert^2_{\\text{F}})$,</center>\n",
        "    \n",
        "where $\\mathbf{P}$ is the user latent factor matrix of size (#user, #latent); $\\mathbf{Q}$ is the movie latent factor matrix of size (#movie, #latent); $\\sigma(\\cdot)$ is the Sigmoid function; $\\mathcal{O}$ is a (user, positive movie, negative movie) tuple set, and each tuple $(u,i,j)$ is a training sample with user $u$ and a posotive movie $i$ with value 1 in train_mat and a negative movie $j$ with value 0 in train_mat; $\\lambda(\\lVert\\mathbf{P}\\rVert^2_{\\text{F}}+\\lVert\\mathbf{Q}\\rVert^2_{\\text{F}})$ is the regularization term to overcome overfitting problem, $\\lambda$ is the regularization weight (a hyper-parameter manually set by the developer, i.e., you), and $\\lVert\\mathbf{P}\\rVert^2_{\\text{F}}=\\sum_{x}\\sum_{y}(\\mathbf{P}_{x,y})^2$, $\\lVert\\mathbf{Q}\\rVert^2_{\\text{F}}=\\sum_{x}\\sum_{y}(\\mathbf{Q}_{x,y})^2$. Such an L function is called the **loss function** for the matrix factorization model. The goal of training a BPR model is to find appropriate $\\mathbf{P}$ and $\\mathbf{Q}$ to **maximize** the loss L."
      ]
    },
    {
      "cell_type": "markdown",
      "metadata": {
        "id": "2kpemLFvMD-l"
      },
      "source": [
        "To implement such a BPR model, here we will write a Python class for the model. Similar to the implicit_MF model you have already implemented in Part 3, there are five functions in this BPR class: \n",
        "\n",
        "* The 'init' function (**provided**) is to initialize the variables the BPR class needs, which takes 5 inputs: train_mat, test_mat, latent, lr, and reg. 'train_mat' and 'test_mat' are the corresponfing training and testing matrices we have. 'latent' represents the latent dimension we set for the BPR model. 'lr' represents the learning rate, i.e., the update step in each optimization iteration, default is 0.01. 'reg' represents the regularization weight, i.e., the $\\lambda$ in the BPR formulation.\n",
        "\n",
        "* 'negative_sampling' (**provided**) is to do the random negative sampling to generate negative signals for training the BPR. It returns a list of users, a list of positive movies of these users, and a list of negative movies of these user. These three lists form the training set $\\mathcal{O}$.\n",
        "\n",
        "* 'test' (**provided**) is to evaluate the trained MF on test_mat and print out recall@k and precision@k. \n",
        "\n",
        "* 'predict' (**provided**) is to generates the ranked lists of movies by the trained MF for every user, store the ranking result (named 'recommendation') in a numpy array of size (#user, 50), where entry (u, k) represents the movie id that is ranked at position k in the recommendation list to user u. Return the 'recommendation' variable. \n",
        "\n",
        "* 'train' (**need to be completed**) is to train the BPR model. There is only one input to this function: an int variable 'epoch' to indicate how many epochs for training the model. The main process of one training epoch is:\n",
        "\n",
        "        1. Call 'negative_sampling()' to generate training samples: a list of users, a list of positive movies of these users, and a list of negative movies of these users.\n",
        "        2. Randomly shuffle training samples from step 1.\n",
        "        3. Have an inner loop to iterate each (user, positive movie, negative movie) tuple in the shuffled training samples:\n",
        "                a. given the current training tuple -- a user u, a positive movie i, and a negative movie j, update the user latent factor and movie latent factor by gradient decsent:\n",
        "<center>$\\mathbf{P}_u=\\mathbf{P}_u - \\gamma[-\\frac{e^{-\\widehat{x}}}{1 + e^{-\\widehat{x}}} (\\mathbf{Q}_i - \\mathbf{Q}_j) + \\lambda\\mathbf{P}_u]$</center>\n",
        "<center>$\\mathbf{Q}_i=\\mathbf{Q}_i - \\gamma[-\\frac{e^{-\\widehat{x}}}{1 + e^{-\\widehat{x}}} \\mathbf{P}_U + \\lambda\\mathbf{Q}_i]$</center>\n",
        "<center>$\\mathbf{Q}_j=\\mathbf{Q}_j - \\gamma[\\frac{e^{-\\widehat{x}}}{1 + e^{-\\widehat{x}}} \\mathbf{P}_U + \\lambda\\mathbf{Q}_j]$</center>   \n",
        "<center>where $\\mathbf{P}_u$, $\\mathbf{Q}_i$, and $\\mathbf{Q}_j$ are of size (1, #latent), $\\gamma$ is learning rate (default is 0.01), $\\lambda$ is regularization weight, and $\\widehat{x}=\\mathbf{P}_u\\cdot\\mathbf{Q}^\\top_i-\\mathbf{P}_u\\cdot\\mathbf{Q}^\\top_j$.</center>\n",
        "        \n",
        "        3. After iterate all training samples, call 'test()' to evaluate the current BPR model.\n"
      ]
    },
    {
      "cell_type": "markdown",
      "metadata": {
        "id": "lYQmt-3wMD-l"
      },
      "source": [
        "In the next cell, you will need to fill in the 'train' function based on the description above. \n",
        "\n",
        "*Hint that similar to the training process of MF in Part 3, in each update iteration, you need to use the old P and Q from last update iteration to update P and Q in current update iteration.\n",
        "\n",
        "**NOTE that you should not delete or modify the provided code.**"
      ]
    },
    {
      "cell_type": "code",
      "source": [
        "import math"
      ],
      "metadata": {
        "id": "kGMez_YsxR2w"
      },
      "execution_count": null,
      "outputs": []
    },
    {
      "cell_type": "code",
      "execution_count": null,
      "metadata": {
        "id": "R7oKJUR9MD-l"
      },
      "outputs": [],
      "source": [
        "class BPR:\n",
        "    def __init__(self, train_mat, test_mat, latent=5, lr=0.01, reg=0.01):\n",
        "        self.train_mat = train_mat  # the training rating matrix of size (#user, #movie)\n",
        "        self.test_mat = test_mat  # the training rating matrix of size (#user, #movie)\n",
        "        \n",
        "        self.latent = latent  # the latent dimension\n",
        "        self.lr = lr  # learning rate\n",
        "        self.reg = reg  # regularization weight, i.e., the lambda in the objective function\n",
        "        \n",
        "        self.num_user, self.num_movie = train_mat.shape\n",
        "        \n",
        "        self.positive_user, self.positive_movie = self.train_mat.nonzero()  # get the user-movie paris having ratings in train_mat\n",
        "\n",
        "        self.user_test_like = []\n",
        "        for u in range(self.num_user):\n",
        "            self.user_test_like.append(np.where(self.test_mat[u, :] > 0)[0])\n",
        "\n",
        "        self.P = np.random.random((self.num_user, self.latent))  # latent factors for users, size (#user, self.latent), randomly initialized\n",
        "        self.Q = np.random.random((self.num_movie, self.latent))  # latent factors for users, size (#movie, self.latent), randomly initialized\n",
        "        \n",
        "    def negative_sampling(self): \n",
        "        # do the negative sampling for each of the positive user-movie pair. Here we set negative sampling rate as 2, \n",
        "        # i.e., for each positive user-movie pair, randomly sample two negative movies. \n",
        "        # This function returns final training data: a user list, a positive movie list, and a negative movie list\n",
        "        sample_user = np.tile(self.positive_user, 2)\n",
        "        sample_pos_movie = np.tile(self.positive_movie, 2)\n",
        "        sample_neg_movie = np.random.choice(np.arange(self.num_movie), size=(len(sample_user)), replace=True)\n",
        "        true_negative = self.train_mat[sample_user, sample_neg_movie] == 0\n",
        "        return sample_user[true_negative], sample_pos_movie[true_negative], sample_neg_movie[true_negative]\n",
        "\n",
        "    def train(self, epoch=20):\n",
        "        \"\"\"\n",
        "        Goal: Write your code to train your matrix factorization model for epoch iterations in this function\n",
        "        Input: epoch -- the number of training epoch \n",
        "        \"\"\"\n",
        "        for ep in range(epoch):\n",
        "            \"\"\" \n",
        "            Write your code here to implement the training process for one epoch, \n",
        "            at the end of each epoch, run self.test() to evaluate current version of BPR.\n",
        "            \"\"\"\n",
        "            print(\"epoch={}\".format(ep))\n",
        "\n",
        "            users, pos_movies, neg_movies = self.negative_sampling() \n",
        "\n",
        "            for user, pos_movie, neg_movie in zip(users, pos_movies, neg_movies):\n",
        "                x_hat = self.P[user].dot(self.Q[pos_movie] - self.Q[neg_movie])\n",
        "                grad_p = -np.exp(-x_hat) / (1 + np.exp(-x_hat)) * (self.Q[pos_movie] - self.Q[neg_movie]) + self.reg * self.P[user]\n",
        "                grad_pos_q = -np.exp(-x_hat) / (1 + np.exp(-x_hat)) * self.P[user] + self.reg * self.Q[pos_movie]\n",
        "                grad_neg_q = np.exp(-x_hat) / (1 + np.exp(-x_hat)) * self.P[user] + self.reg * self.Q[neg_movie]\n",
        "\n",
        "                self.P[user] -= self.lr * grad_p\n",
        "                self.Q[pos_movie] -= self.lr * grad_pos_q\n",
        "                self.Q[neg_movie] -= self.lr * grad_neg_q\n",
        "        \n",
        "            self.test()\n",
        "            \n",
        "            \"\"\"\n",
        "            End of your code for this function\n",
        "            \"\"\"\n",
        "            \n",
        "    def predict(self):\n",
        "        # The prediction function, which generates the ranked lists of movies \n",
        "        # by the trained BPR for every user, store the result (named 'recommendation') in a numpy array of size (#user, 50), where entry (u, k) \n",
        "        # represents the movie id that is ranked at position k in the recommendation list to user u. Return the 'recommendation' variable. \n",
        "        prediction_mat = np.matmul(self.P, self.Q.T)\n",
        "        recommendation = []\n",
        "        for u in range(self.num_user):\n",
        "            scores = prediction_mat[u]\n",
        "            train_like = np.where(train_mat[u, :] > 0)[0]\n",
        "            scores[train_like] = -9999\n",
        "            top50_iid = np.argpartition(scores, -50)[-50:]\n",
        "            top50_iid = top50_iid[np.argsort(scores[top50_iid])[-1::-1]]\n",
        "            recommendation.append(top50_iid)\n",
        "        recommendation = np.array(recommendation)\n",
        "        return recommendation\n",
        "    \n",
        "    def test(self):\n",
        "        recommendation = self.predict()\n",
        "\n",
        "        recalls = np.zeros(3)\n",
        "        precisions = np.zeros(3)\n",
        "        user_count = 0.\n",
        "\n",
        "        for u in range(self.num_user):\n",
        "            test_like = self.user_test_like[u]\n",
        "            test_like_num = len(test_like)\n",
        "            if test_like_num == 0:\n",
        "                continue\n",
        "            rec = recommendation[u, :]\n",
        "            hits = np.zeros(3)\n",
        "            for k in range(50):\n",
        "                if rec[k] in test_like:\n",
        "                    if k < 50:\n",
        "                        hits[2] += 1\n",
        "                        if k < 20:\n",
        "                            hits[1] += 1\n",
        "                            if k < 5:\n",
        "                                hits[0] += 1\n",
        "            recalls[0] += (hits[0] / test_like_num)\n",
        "            recalls[1] += (hits[1] / test_like_num)\n",
        "            recalls[2] += (hits[2] / test_like_num)\n",
        "            precisions[0] += (hits[0] / 5.)\n",
        "            precisions[1] += (hits[1] / 20.)\n",
        "            precisions[2] += (hits[2] / 50.)\n",
        "            user_count += 1\n",
        "\n",
        "        recalls /= user_count\n",
        "        precisions /= user_count\n",
        "\n",
        "        print('recall@5\\t[%.6f],\\t||\\t recall@20\\t[%.6f],\\t||\\t recall@50\\t[%.6f]' % (recalls[0], recalls[1], recalls[2]))\n",
        "        print('precision@5\\t[%.6f],\\t||\\t precision@20\\t[%.6f],\\t||\\t precision@50\\t[%.6f]' % (precisions[0], precisions[1], precisions[2]))\n",
        "        print('')"
      ]
    },
    {
      "cell_type": "markdown",
      "metadata": {
        "id": "uvJRalhwMD-r"
      },
      "source": [
        "Now, let's train a BPR model based on your implementation. The code is provided, you just need to execute the next cell. The expectations are: \n",
        "\n",
        "* first, the code can be successfully executed without error; \n",
        "* and second, the recall@k and precision@k on **test_mat** of each training epoch should be printed out for all 20 epochs.\n",
        "\n",
        "\n",
        "* Hint: the expected time used for training is around 1 minute to 5 minutes per training epoch."
      ]
    },
    {
      "cell_type": "code",
      "execution_count": null,
      "metadata": {
        "id": "T-q9CtdDMD-s",
        "colab": {
          "base_uri": "https://localhost:8080/"
        },
        "outputId": "5caa7a81-09c8-48d4-cd1a-c9612e4f228a"
      },
      "outputs": [
        {
          "output_type": "stream",
          "name": "stdout",
          "text": [
            "epoch=0\n",
            "recall@5\t[0.034144],\t||\t recall@20\t[0.104672],\t||\t recall@50\t[0.187846]\n",
            "precision@5\t[0.260563],\t||\t precision@20\t[0.205985],\t||\t precision@50\t[0.155156]\n",
            "\n",
            "epoch=1\n",
            "recall@5\t[0.034312],\t||\t recall@20\t[0.106199],\t||\t recall@50\t[0.188316]\n",
            "precision@5\t[0.259305],\t||\t precision@20\t[0.207326],\t||\t precision@50\t[0.155447]\n",
            "\n",
            "epoch=2\n",
            "recall@5\t[0.035386],\t||\t recall@20\t[0.104481],\t||\t recall@50\t[0.188667]\n",
            "precision@5\t[0.259536],\t||\t precision@20\t[0.206209],\t||\t precision@50\t[0.156162]\n",
            "\n",
            "epoch=3\n",
            "recall@5\t[0.036774],\t||\t recall@20\t[0.106691],\t||\t recall@50\t[0.188960]\n",
            "precision@5\t[0.270166],\t||\t precision@20\t[0.208758],\t||\t precision@50\t[0.157305]\n",
            "\n",
            "epoch=4\n",
            "recall@5\t[0.035594],\t||\t recall@20\t[0.106520],\t||\t recall@50\t[0.192431]\n",
            "precision@5\t[0.263675],\t||\t precision@20\t[0.208286],\t||\t precision@50\t[0.159401]\n",
            "\n",
            "epoch=5\n",
            "recall@5\t[0.035130],\t||\t recall@20\t[0.107668],\t||\t recall@50\t[0.191895]\n",
            "precision@5\t[0.263576],\t||\t precision@20\t[0.212839],\t||\t precision@50\t[0.161927]\n",
            "\n",
            "epoch=6\n",
            "recall@5\t[0.036746],\t||\t recall@20\t[0.109262],\t||\t recall@50\t[0.197438]\n",
            "precision@5\t[0.276026],\t||\t precision@20\t[0.219040],\t||\t precision@50\t[0.168672]\n",
            "\n",
            "epoch=7\n",
            "recall@5\t[0.036963],\t||\t recall@20\t[0.110886],\t||\t recall@50\t[0.203008]\n",
            "precision@5\t[0.283212],\t||\t precision@20\t[0.224743],\t||\t precision@50\t[0.174073]\n",
            "\n",
            "epoch=8\n",
            "recall@5\t[0.038728],\t||\t recall@20\t[0.114821],\t||\t recall@50\t[0.208923]\n",
            "precision@5\t[0.295728],\t||\t precision@20\t[0.231316],\t||\t precision@50\t[0.179788]\n",
            "\n",
            "epoch=9\n",
            "recall@5\t[0.039121],\t||\t recall@20\t[0.117079],\t||\t recall@50\t[0.213255]\n",
            "precision@5\t[0.296391],\t||\t precision@20\t[0.236142],\t||\t precision@50\t[0.183199]\n",
            "\n",
            "epoch=10\n",
            "recall@5\t[0.040934],\t||\t recall@20\t[0.119381],\t||\t recall@50\t[0.218621]\n",
            "precision@5\t[0.310629],\t||\t precision@20\t[0.241118],\t||\t precision@50\t[0.187596]\n",
            "\n",
            "epoch=11\n",
            "recall@5\t[0.041788],\t||\t recall@20\t[0.122158],\t||\t recall@50\t[0.222514]\n",
            "precision@5\t[0.317417],\t||\t precision@20\t[0.246084],\t||\t precision@50\t[0.191113]\n",
            "\n",
            "epoch=12\n",
            "recall@5\t[0.043059],\t||\t recall@20\t[0.124993],\t||\t recall@50\t[0.229256]\n",
            "precision@5\t[0.325033],\t||\t precision@20\t[0.249363],\t||\t precision@50\t[0.194599]\n",
            "\n",
            "epoch=13\n",
            "recall@5\t[0.043764],\t||\t recall@20\t[0.126561],\t||\t recall@50\t[0.232726]\n",
            "precision@5\t[0.327881],\t||\t precision@20\t[0.253253],\t||\t precision@50\t[0.197685]\n",
            "\n",
            "epoch=14\n",
            "recall@5\t[0.045171],\t||\t recall@20\t[0.129657],\t||\t recall@50\t[0.238476]\n",
            "precision@5\t[0.332781],\t||\t precision@20\t[0.256945],\t||\t precision@50\t[0.200480]\n",
            "\n",
            "epoch=15\n",
            "recall@5\t[0.046752],\t||\t recall@20\t[0.132294],\t||\t recall@50\t[0.240547]\n",
            "precision@5\t[0.341523],\t||\t precision@20\t[0.259752],\t||\t precision@50\t[0.201460]\n",
            "\n",
            "epoch=16\n",
            "recall@5\t[0.047208],\t||\t recall@20\t[0.133887],\t||\t recall@50\t[0.244407]\n",
            "precision@5\t[0.342119],\t||\t precision@20\t[0.262558],\t||\t precision@50\t[0.204073]\n",
            "\n",
            "epoch=17\n",
            "recall@5\t[0.048051],\t||\t recall@20\t[0.135350],\t||\t recall@50\t[0.248342]\n",
            "precision@5\t[0.347715],\t||\t precision@20\t[0.264487],\t||\t precision@50\t[0.205692]\n",
            "\n",
            "epoch=18\n",
            "recall@5\t[0.048796],\t||\t recall@20\t[0.136961],\t||\t recall@50\t[0.251461]\n",
            "precision@5\t[0.349437],\t||\t precision@20\t[0.266002],\t||\t precision@50\t[0.206921]\n",
            "\n",
            "epoch=19\n",
            "recall@5\t[0.048700],\t||\t recall@20\t[0.137445],\t||\t recall@50\t[0.253145]\n",
            "precision@5\t[0.347682],\t||\t precision@20\t[0.265927],\t||\t precision@50\t[0.207775]\n",
            "\n"
          ]
        }
      ],
      "source": [
        "bpr = BPR(train_mat, test_mat, latent=5, lr=0.01, reg=0.001)\n",
        "bpr.train(epoch=20)"
      ]
    },
    {
      "cell_type": "markdown",
      "metadata": {
        "id": "Ptxnml0-MD-s"
      },
      "source": [
        "**Question (5 points):** do you observe a better result compared with models implemented in previous three parts? What's reason do you think that brings this improvement?"
      ]
    },
    {
      "cell_type": "markdown",
      "source": [
        "# **COMPARISON OF RESULTS**\n",
        "\n",
        "**Non-Personalized Filtering:**\n",
        "recall@5\t[0.037859],\t||\t recall@20\t[0.108586],\t||\t recall@50\t[0.193618]\n",
        "precision@5\t[0.272980],\t||\t precision@20\t[0.210422],\t||\t precision@50\t[0.157821]\n",
        "\n",
        "**User-User Collaborative Filtering:**\n",
        "recall@5\t[0.070522],\t||\t recall@20\t[0.191681],\t||\t recall@50\t[0.322024]\n",
        "precision@5\t[0.377914],\t||\t precision@20\t[0.290919],\t||\t precision@50\t[0.221669]\n",
        "\n",
        "**Matrix Factorization:**\n",
        "recall@5\t[0.039103],\t||\t recall@20\t[0.119658],\t||\t recall@50\t[0.232927]\n",
        "precision@5\t[0.289801],\t||\t precision@20\t[0.236846],\t||\t precision@50\t[0.193781]\n",
        "\n",
        "**BPR:**\n",
        "\n",
        "recall@5\t[0.048700],\t||\t recall@20\t[0.137445],\t||\t recall@50\t[0.253145]\n",
        "precision@5\t[0.347682],\t||\t precision@20\t[0.265927],\t||\t precision@50\t[0.207775]\n",
        "\n"
      ],
      "metadata": {
        "id": "uCS22gAjrHpQ"
      }
    },
    {
      "cell_type": "markdown",
      "metadata": {
        "id": "Q0M28QNVMD-s"
      },
      "source": [
        "**Write your answer here:**\n",
        "\n",
        "From the above results, we can see Bayesian Personalized Ranking(BPR) performs better than Non-personalized based,  User-User collaborative filtering and Matrix Factorization based Implicit Recommendation.\n",
        "\n",
        "BPR is a recommendation algorithm that is based on the pairwise ranking of items. It has been shown to outperform non-personalized, user-user collaborative filtering, and matrix-factorization implicit recommendation methods in several ways.\n",
        "\n",
        "Firstly, BPR is a personalized recommendation algorithm, which means that it provides recommendations that are tailored to the specific preferences of individual users. Non-personalized recommendation methods, on the other hand, provide the same recommendations to all users, regardless of their unique preferences.\n",
        "\n",
        "Secondly, BPR uses item rankings to make recommendations, which has been shown to be more effective than other recommendation methods, such as user-user collaborative filtering and matrix-factorization implicit recommendation. In user-user collaborative filtering, recommendations are based on similarities between users, which can be unreliable when there are not enough user-item interactions. In matrix-factorization implicit recommendation, recommendations are based on the factorization of a user-item interaction matrix, which can be computationally expensive and may not be well-suited for large-scale recommendation systems.\n",
        "\n",
        "Thirdly, BPR is able to handle sparse and implicit feedback data, which is common in many real-world recommendation systems. It achieves this by modeling the probability of a user preferring one item over another, given their past interactions with those items. Non-personalized recommendation methods and user-user collaborative filtering may struggle with sparse and implicit feedback data, as they require a certain level of user-item interactions to make accurate recommendations.\n",
        "\n",
        "In summary, BPR is a personalized recommendation algorithm that is effective at handling sparse and implicit feedback data. Its use of pairwise ranking and ability to tailor recommendations to individual users make it a powerful tool for building large-scale recommendation systems.\n",
        "\n",
        "\n",
        "\n"
      ]
    },
    {
      "cell_type": "markdown",
      "metadata": {
        "id": "wKZ8ijNPTXMN"
      },
      "source": [
        "# Part 5. Cool Extension! (10 points)\n",
        "\n",
        "Just like in the first homework, now is your chance to try an interesting extension. "
      ]
    },
    {
      "cell_type": "markdown",
      "source": [
        "# **Effect of varying Latent Factor Size (K) on Recall and Precision**"
      ],
      "metadata": {
        "id": "F2gEslG-n0U5"
      }
    },
    {
      "cell_type": "code",
      "source": [
        "import matplotlib.pyplot as plt\n"
      ],
      "metadata": {
        "id": "a7pRyTf8LM-L"
      },
      "execution_count": null,
      "outputs": []
    },
    {
      "cell_type": "code",
      "source": [
        "class BPR:\n",
        "    def __init__(self, train_mat, test_mat, latent=5, lr=0.01, reg=0.01):\n",
        "        self.train_mat = train_mat  # the training rating matrix of size (#user, #movie)\n",
        "        self.test_mat = test_mat  # the training rating matrix of size (#user, #movie)\n",
        "        \n",
        "        self.latent = latent  # the latent dimension\n",
        "        self.lr = lr  # learning rate\n",
        "        self.reg = reg  # regularization weight, i.e., the lambda in the objective function\n",
        "        \n",
        "        self.num_user, self.num_movie = train_mat.shape\n",
        "        \n",
        "        self.positive_user, self.positive_movie = self.train_mat.nonzero()  # get the user-movie paris having ratings in train_mat\n",
        "\n",
        "        self.user_test_like = []\n",
        "        for u in range(self.num_user):\n",
        "            self.user_test_like.append(np.where(self.test_mat[u, :] > 0)[0])\n",
        "\n",
        "        self.P = np.random.random((self.num_user, self.latent))  # latent factors for users, size (#user, self.latent), randomly initialized\n",
        "        self.Q = np.random.random((self.num_movie, self.latent))  # latent factors for users, size (#movie, self.latent), randomly initialized\n",
        "        \n",
        "        \n",
        "        self.r_5= 0\n",
        "        self.r_20=0\n",
        "        self.r_50=0\n",
        "        self.p_5= 0       \n",
        "        self.p_20=0\n",
        "        self.p_50=0\n",
        "\n",
        "\n",
        "    def negative_sampling(self): \n",
        "        # do the negative sampling for each of the positive user-movie pair. Here we set negative sampling rate as 2, \n",
        "        # i.e., for each positive user-movie pair, randomly sample two negative movies. \n",
        "        # This function returns final training data: a user list, a positive movie list, and a negative movie list\n",
        "        sample_user = np.tile(self.positive_user, 2)\n",
        "        sample_pos_movie = np.tile(self.positive_movie, 2)\n",
        "        sample_neg_movie = np.random.choice(np.arange(self.num_movie), size=(len(sample_user)), replace=True)\n",
        "        true_negative = self.train_mat[sample_user, sample_neg_movie] == 0\n",
        "        return sample_user[true_negative], sample_pos_movie[true_negative], sample_neg_movie[true_negative]\n",
        "\n",
        "    def train(self, epoch):\n",
        "        \"\"\"\n",
        "        Goal: Write your code to train your matrix factorization model for epoch iterations in this function\n",
        "        Input: epoch -- the number of training epoch \n",
        "        \"\"\"\n",
        "        self.recall=[]\n",
        "        self.precision=[]\n",
        "        self.error_vector=[]\n",
        "        print(\"latent={}\".format(latent))\n",
        "        for ep in range(epoch):\n",
        "            \"\"\" \n",
        "            Write your code here to implement the training process for one epoch, \n",
        "            at the end of each epoch, run self.test() to evaluate current version of BPR.\n",
        "            \"\"\"\n",
        "            print(\"epoch={}\".format(ep))\n",
        "\n",
        "            users, pos_movies, neg_movies = self.negative_sampling()\n",
        "            error=0\n",
        "\n",
        "            for user, pos_movie, neg_movie in zip(users, pos_movies, neg_movies):\n",
        "                x_hat = self.P[user].dot(self.Q[pos_movie] - self.Q[neg_movie])\n",
        "                grad_p = -np.exp(-x_hat) / (1 + np.exp(-x_hat)) * (self.Q[pos_movie] - self.Q[neg_movie]) + self.reg * self.P[user]\n",
        "                grad_pos_q = -np.exp(-x_hat) / (1 + np.exp(-x_hat)) * self.P[user] + self.reg * self.Q[pos_movie]\n",
        "                grad_neg_q = np.exp(-x_hat) / (1 + np.exp(-x_hat)) * self.P[user] + self.reg * self.Q[neg_movie]\n",
        "\n",
        "                self.P[user] -= self.lr * grad_p\n",
        "                self.Q[pos_movie] -= self.lr * grad_pos_q\n",
        "                self.Q[neg_movie] -= self.lr * grad_neg_q\n",
        "        \n",
        "            \n",
        "                \n",
        "            recalls, precisions = self.test()\n",
        "           \n",
        "            if ep==epoch-1:\n",
        "              print(\"inside\")\n",
        "              self.r_5 =recalls[0]\n",
        "              self.r_20=recalls[1]\n",
        "              self.r_50=recalls[2]\n",
        "              self.p_5 =precisions[0]\n",
        "              self.p_20=precisions[1]\n",
        "              self.p_50=precisions[2]\n",
        "              \n",
        "              print('recall@5\\t[%.6f],\\t||\\t recall@20\\t[%.6f],\\t||\\t recall@50\\t[%.6f]' % (recalls[0], recalls[1], recalls[2]))\n",
        "              print('precision@5\\t[%.6f],\\t||\\t precision@20\\t[%.6f],\\t||\\t precision@50\\t[%.6f]' % (precisions[0], precisions[1], precisions[2]))\n",
        "              print('')\n",
        "\n",
        "        return self.r_5, self.r_20, self.r_50, self.p_5, self.p_20, self.p_50\n",
        "\n",
        "        \n",
        "\n",
        "\n",
        "            \n",
        "        \"\"\"\n",
        "        End of your code for this function\n",
        "        \"\"\"\n",
        "            \n",
        "    def predict(self):\n",
        "        # The prediction function, which generates the ranked lists of movies \n",
        "        # by the trained BPR for every user, store the result (named 'recommendation') in a numpy array of size (#user, 50), where entry (u, k) \n",
        "        # represents the movie id that is ranked at position k in the recommendation list to user u. Return the 'recommendation' variable. \n",
        "        prediction_mat = np.matmul(self.P, self.Q.T)\n",
        "        recommendation = []\n",
        "        for u in range(self.num_user):\n",
        "            scores = prediction_mat[u]\n",
        "            train_like = np.where(train_mat[u, :] > 0)[0]\n",
        "            scores[train_like] = -9999\n",
        "            top50_iid = np.argpartition(scores, -50)[-50:]\n",
        "            top50_iid = top50_iid[np.argsort(scores[top50_iid])[-1::-1]]\n",
        "            recommendation.append(top50_iid)\n",
        "        recommendation = np.array(recommendation)\n",
        "        return recommendation\n",
        "    \n",
        "    def test(self):\n",
        "        recommendation = self.predict()\n",
        "\n",
        "        recalls = np.zeros(3)\n",
        "        precisions = np.zeros(3)\n",
        "        user_count = 0.\n",
        "\n",
        "        for u in range(self.num_user):\n",
        "            test_like = self.user_test_like[u]\n",
        "            test_like_num = len(test_like)\n",
        "            if test_like_num == 0:\n",
        "                continue\n",
        "            rec = recommendation[u, :]\n",
        "            hits = np.zeros(3)\n",
        "            for k in range(50):\n",
        "                if rec[k] in test_like:\n",
        "                    if k < 50:\n",
        "                        hits[2] += 1\n",
        "                        if k < 20:\n",
        "                            hits[1] += 1\n",
        "                            if k < 5:\n",
        "                                hits[0] += 1\n",
        "            recalls[0] += (hits[0] / test_like_num)\n",
        "            recalls[1] += (hits[1] / test_like_num)\n",
        "            recalls[2] += (hits[2] / test_like_num)\n",
        "            precisions[0] += (hits[0] / 5.)\n",
        "            precisions[1] += (hits[1] / 20.)\n",
        "            precisions[2] += (hits[2] / 50.)\n",
        "            user_count += 1\n",
        "\n",
        "        recalls /= user_count\n",
        "        precisions /= user_count\n",
        "\n",
        "        return recalls, precisions\n",
        "\n",
        "        print('recall@5\\t[%.6f],\\t||\\t recall@20\\t[%.6f],\\t||\\t recall@50\\t[%.6f]' % (recalls[0], recalls[1], recalls[2]))\n",
        "        print('precision@5\\t[%.6f],\\t||\\t precision@20\\t[%.6f],\\t||\\t precision@50\\t[%.6f]' % (precisions[0], precisions[1], precisions[2]))\n",
        "        print('')"
      ],
      "metadata": {
        "id": "YPKL14L-QgP_"
      },
      "execution_count": null,
      "outputs": []
    },
    {
      "cell_type": "code",
      "source": [
        "r_5_total=[]\n",
        "r_20_total=[]\n",
        "r_50_total=[]\n",
        "p_5_total=[]\n",
        "p_20_total=[]\n",
        "p_50_total=[]\n",
        "\n",
        "r_5 =0\n",
        "r_20=0\n",
        "r_50=0\n",
        "p_5 =0\n",
        "p_20=0\n",
        "p_50=0\n",
        "\n",
        "for latent in range(5,50,10):\n",
        "  bpr = BPR(train_mat, test_mat, latent, lr=0.01, reg=0.001)\n",
        "  r_5, r_20, r_50, p_5, p_20, p_50=bpr.train(epoch=10)\n",
        "\n",
        "  r_5_total.append(r_5)\n",
        "  r_20_total.append(r_20)\n",
        "  r_50_total.append(r_50)\n",
        "  p_5_total.append( p_5)\n",
        "  p_20_total.append(p_20)\n",
        "  p_50_total.append(p_50)\n",
        "\n",
        "\n",
        "  "
      ],
      "metadata": {
        "colab": {
          "base_uri": "https://localhost:8080/"
        },
        "id": "ghn_89w2QAZp",
        "outputId": "820eed32-f6d5-42cc-8675-8e05a649afe2"
      },
      "execution_count": null,
      "outputs": [
        {
          "output_type": "stream",
          "name": "stdout",
          "text": [
            "latent=5\n",
            "epoch=0\n",
            "epoch=1\n",
            "epoch=2\n",
            "epoch=3\n",
            "epoch=4\n",
            "epoch=5\n",
            "epoch=6\n",
            "epoch=7\n",
            "epoch=8\n",
            "epoch=9\n",
            "inside\n",
            "recall@5\t[0.039317],\t||\t recall@20\t[0.116694],\t||\t recall@50\t[0.213015]\n",
            "precision@5\t[0.305132],\t||\t precision@20\t[0.235828],\t||\t precision@50\t[0.182222]\n",
            "\n",
            "latent=15\n",
            "epoch=0\n",
            "epoch=1\n",
            "epoch=2\n",
            "epoch=3\n",
            "epoch=4\n",
            "epoch=5\n",
            "epoch=6\n",
            "epoch=7\n",
            "epoch=8\n",
            "epoch=9\n",
            "inside\n",
            "recall@5\t[0.039308],\t||\t recall@20\t[0.119684],\t||\t recall@50\t[0.217911]\n",
            "precision@5\t[0.312649],\t||\t precision@20\t[0.246010],\t||\t precision@50\t[0.191705]\n",
            "\n",
            "latent=25\n",
            "epoch=0\n",
            "epoch=1\n",
            "epoch=2\n",
            "epoch=3\n",
            "epoch=4\n",
            "epoch=5\n",
            "epoch=6\n",
            "epoch=7\n",
            "epoch=8\n",
            "epoch=9\n",
            "inside\n",
            "recall@5\t[0.039658],\t||\t recall@20\t[0.117173],\t||\t recall@50\t[0.217556]\n",
            "precision@5\t[0.316026],\t||\t precision@20\t[0.247947],\t||\t precision@50\t[0.194977]\n",
            "\n",
            "latent=35\n",
            "epoch=0\n",
            "epoch=1\n",
            "epoch=2\n",
            "epoch=3\n",
            "epoch=4\n",
            "epoch=5\n",
            "epoch=6\n",
            "epoch=7\n",
            "epoch=8\n",
            "epoch=9\n",
            "inside\n",
            "recall@5\t[0.037997],\t||\t recall@20\t[0.117448],\t||\t recall@50\t[0.220720]\n",
            "precision@5\t[0.309238],\t||\t precision@20\t[0.247508],\t||\t precision@50\t[0.196000]\n",
            "\n",
            "latent=45\n",
            "epoch=0\n",
            "epoch=1\n",
            "epoch=2\n",
            "epoch=3\n",
            "epoch=4\n",
            "epoch=5\n",
            "epoch=6\n",
            "epoch=7\n",
            "epoch=8\n",
            "epoch=9\n",
            "inside\n",
            "recall@5\t[0.037206],\t||\t recall@20\t[0.116341],\t||\t recall@50\t[0.215838]\n",
            "precision@5\t[0.305728],\t||\t precision@20\t[0.245579],\t||\t precision@50\t[0.192543]\n",
            "\n"
          ]
        }
      ]
    },
    {
      "cell_type": "code",
      "source": [
        "x_axis=list(range(5,50,10))\n",
        "\n",
        "fig1,ax1=plt.subplots(dpi=150)\n",
        "ax1.plot(x_axis, r_5_total, label='Recall@5')\n",
        "ax1.plot(x_axis, r_20_total, label='Recall@20')\n",
        "ax1.plot(x_axis, r_50_total, label='Recall@50')\n",
        "ax1.set_xlabel('Latent Factor Size(k)')\n",
        "ax1.set_ylabel('Recall@K')\n",
        "ax1.set_title('Recall Plot to understand variation in Latent Factor(K)- BPR')\n",
        "ax1.legend()\n",
        "plt.show()\n",
        "fig2,ax2=plt.subplots(dpi=150)\n",
        "ax2.plot(x_axis, p_5_total, label= 'Precision@5')\n",
        "ax2.plot(x_axis, p_20_total, label='Precision@20')\n",
        "ax2.plot(x_axis, p_50_total, label='Precision@50')\n",
        "ax2.set_xlabel('Latent Factor Size(k)')\n",
        "ax2.set_ylabel('Precision@K')\n",
        "ax2.set_title('Precision Plot to understand variation in Latent Factor(K)- BPR')\n",
        "ax2.legend()\n",
        "plt.show()"
      ],
      "metadata": {
        "colab": {
          "base_uri": "https://localhost:8080/",
          "height": 1000
        },
        "id": "pUWtCEB3U32P",
        "outputId": "096a878d-4ff1-4394-8b32-be8f6116309c"
      },
      "execution_count": null,
      "outputs": [
        {
          "output_type": "display_data",
          "data": {
            "text/plain": [
              "<Figure size 900x600 with 1 Axes>"
            ],
            "image/png": "[encoded data removed]"
          },
          "metadata": {
            "needs_background": "light"
          }
        },
        {
          "output_type": "display_data",
          "data": {
            "text/plain": [
              "<Figure size 900x600 with 1 Axes>"
            ],
            "image/png": "[encoded data removed]"
          },
          "metadata": {
            "needs_background": "light"
          }
        }
      ]
    },
    {
      "cell_type": "markdown",
      "source": [
        "I have **analyzed the effect of varying latent factor k on the efficiency of the algorithm**. Here, we can see that Precision@50 ≤ Precision@20 ≤ Precision@5 and Recall@5 ≤ Recall@20 ≤ Recall@50. Here we can clearly see that for ***Precision@k,the precision improves till K=25 and then detoriates again***. Similarly, for recall, we can see the same trend of improving and then falling down. However, the exact optimal value for Recall@K is not clear in this graph, because we need the more number or epochs to get exact result.\n",
        "\n",
        "**Summarizing the obtained result, I can say:**\n",
        "\n",
        "The latent factors of P and Q in BPR have a significant effect on the recall and precision of the recommendations. Recall is the percentage of relevant items that are recommended to the user, and precision is the percentage of recommended items that are relevant to the user.\n",
        "\n",
        "**When the latent factors of P and Q are large, the model has a higher capacity to capture complex user-item interactions, and this can lead to higher recall and precision**. However, **if the latent factors are too large, the model may overfit the training data, and this can lead to lower generalization performance on the test data**.\n",
        "\n",
        "On the other hand, **if the latent factors are too small, the model may not capture enough information about the user-item interactions, and this can lead to lower recall and precision.** Therefore, it is important to choose an appropriate number of latent factors that balances the capacity of the model with its ability to generalize to unseen data.\n",
        "\n",
        "In summary, the number of latent factors of P and Q in BPR plays a crucial role in determining the performance of the model in terms of recall and precision. **Choosing an appropriate number of latent factors is important to strike a balance between model capacity and generalization performance**.\n",
        "\n",
        "\n",
        "\n",
        "\n",
        "\n",
        "\n",
        "\n"
      ],
      "metadata": {
        "id": "yQPYk6Mzm5-s"
      }
    },
    {
      "cell_type": "markdown",
      "metadata": {
        "id": "cWKpnX8DfU7j"
      },
      "source": [
        "# Collaboration Declarations"
      ]
    },
    {
      "cell_type": "markdown",
      "metadata": {
        "id": "Kg5RckUJfU7j"
      },
      "source": [
        "** You should fill out your collaboration declarations here.**\n",
        "\n",
        "**Reminder:** You are expected to complete each homework independently. Your solution should be written by you without the direct aid or help of anyone else. However, we believe that collaboration and team work are important for facilitating learning, so we encourage you to discuss problems and general problem approaches (but not actual solutions) with your classmates. You may post on Piazza, search StackOverflow, etc. But if you do get help in this way, you must inform us by filling out the Collaboration Declarations at the bottom of this notebook.\n",
        "\n",
        "Example: I found helpful code on stackoverflow at https://stackoverflow.com/questions/11764539/writing-fizzbuzz that helped me solve Problem 2."
      ]
    }
  ],
  "metadata": {
    "anaconda-cloud": {},
    "colab": {
      "provenance": []
    },
    "kernelspec": {
      "display_name": "Python 3",
      "language": "python",
      "name": "python3"
    },
    "language_info": {
      "codemirror_mode": {
        "name": "ipython",
        "version": 3
      },
      "file_extension": ".py",
      "mimetype": "text/x-python",
      "name": "python",
      "nbconvert_exporter": "python",
      "pygments_lexer": "ipython3",
      "version": "3.7.4"
    }
  },
  "nbformat": 4,
  "nbformat_minor": 0
}